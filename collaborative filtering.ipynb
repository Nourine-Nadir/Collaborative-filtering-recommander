{
 "cells": [
  {
   "cell_type": "markdown",
   "metadata": {},
   "source": [
    "# Collaborative filtering :"
   ]
  },
  {
   "cell_type": "markdown",
   "metadata": {},
   "source": [
    "<div>\n",
    "    <img src=\"https://editor.analyticsvidhya.com/uploads/460031_9XZYM6B5Ly-ENYTkEtr9dA.png\" alt=\"\" style='width: 350px; height:400px;'>\n",
    "    <p>Collaborative filtering is a recommendation technique that relies on collecting and analyzing\n",
    "         user interactions, behaviors, or preferences to make predictions and suggest items or content\n",
    "          that users might find relevant. It assumes that users who have agreed in the past tend to agree\n",
    "           in the future and recommends items based on similarities between users or items, fostering\n",
    "            personalized recommendations in various domains such as movies, music, or products.\n",
    "             Collaborative filtering can be categorized into user-based and item-based methods.</p>\n",
    "    <ul>\n",
    "        <li>In theory, user-user and item-item are dual approaches</li>\n",
    "        <li style=\"color: red;\">In practice, item-item ourperforms user-user in many use cases</li>\n",
    "        <li>Items are 'simpler' than users \n",
    "            <ul>\n",
    "                <li>Items belong to a small set of 'genres', users have varied tastes</li>\n",
    "                <li>Item similarity is more meaningful than User simnilarity</li>\n",
    "            </ul>\n",
    "        </li>\n",
    "    </ul>\n",
    "    <a href=\"https://www.kaggle.com/code/nadirnourine/multiple-movies-recommander-content-based\">You can check my item-item approach in this notebook</a>\n",
    "</div>"
   ]
  },
  {
   "cell_type": "markdown",
   "metadata": {},
   "source": [
    "# Import main libraries"
   ]
  },
  {
   "cell_type": "code",
   "execution_count": 1,
   "metadata": {},
   "outputs": [],
   "source": [
    "import numpy as np\n",
    "import pandas as pd\n",
    "from sklearn.metrics.pairwise import cosine_similarity\n",
    "from scipy.sparse import csr_matrix\n"
   ]
  },
  {
   "cell_type": "code",
   "execution_count": 97,
   "metadata": {},
   "outputs": [
    {
     "name": "stderr",
     "output_type": "stream",
     "text": [
      "C:\\Users\\Click\\AppData\\Local\\Temp\\ipykernel_17404\\3324000914.py:1: DtypeWarning: Columns (10) have mixed types. Specify dtype option on import or set low_memory=False.\n",
      "  metadata= pd.read_csv('movies_metadata/movies_metadata.csv')\n"
     ]
    }
   ],
   "source": [
    "metadata= pd.read_csv('/kaggle/input/the-movies-dataset/movies_metadata.csv')\n",
    "ratings = pd.read_csv('/kaggle/input/the-movies-dataset/ratings.csv')"
   ]
  },
  {
   "cell_type": "markdown",
   "metadata": {},
   "source": [
    "# Data cleaning "
   ]
  },
  {
   "cell_type": "code",
   "execution_count": 98,
   "metadata": {},
   "outputs": [
    {
     "data": {
      "text/html": [
       "<div>\n",
       "<style scoped>\n",
       "    .dataframe tbody tr th:only-of-type {\n",
       "        vertical-align: middle;\n",
       "    }\n",
       "\n",
       "    .dataframe tbody tr th {\n",
       "        vertical-align: top;\n",
       "    }\n",
       "\n",
       "    .dataframe thead th {\n",
       "        text-align: right;\n",
       "    }\n",
       "</style>\n",
       "<table border=\"1\" class=\"dataframe\">\n",
       "  <thead>\n",
       "    <tr style=\"text-align: right;\">\n",
       "      <th></th>\n",
       "      <th>userId</th>\n",
       "      <th>movieId</th>\n",
       "      <th>rating</th>\n",
       "      <th>timestamp</th>\n",
       "    </tr>\n",
       "  </thead>\n",
       "  <tbody>\n",
       "    <tr>\n",
       "      <th>0</th>\n",
       "      <td>1</td>\n",
       "      <td>110</td>\n",
       "      <td>1.0</td>\n",
       "      <td>1425941529</td>\n",
       "    </tr>\n",
       "    <tr>\n",
       "      <th>1</th>\n",
       "      <td>1</td>\n",
       "      <td>147</td>\n",
       "      <td>4.5</td>\n",
       "      <td>1425942435</td>\n",
       "    </tr>\n",
       "    <tr>\n",
       "      <th>2</th>\n",
       "      <td>1</td>\n",
       "      <td>858</td>\n",
       "      <td>5.0</td>\n",
       "      <td>1425941523</td>\n",
       "    </tr>\n",
       "    <tr>\n",
       "      <th>3</th>\n",
       "      <td>1</td>\n",
       "      <td>1221</td>\n",
       "      <td>5.0</td>\n",
       "      <td>1425941546</td>\n",
       "    </tr>\n",
       "    <tr>\n",
       "      <th>4</th>\n",
       "      <td>1</td>\n",
       "      <td>1246</td>\n",
       "      <td>5.0</td>\n",
       "      <td>1425941556</td>\n",
       "    </tr>\n",
       "    <tr>\n",
       "      <th>...</th>\n",
       "      <td>...</td>\n",
       "      <td>...</td>\n",
       "      <td>...</td>\n",
       "      <td>...</td>\n",
       "    </tr>\n",
       "    <tr>\n",
       "      <th>1999995</th>\n",
       "      <td>20808</td>\n",
       "      <td>69122</td>\n",
       "      <td>4.0</td>\n",
       "      <td>1258758055</td>\n",
       "    </tr>\n",
       "    <tr>\n",
       "      <th>1999996</th>\n",
       "      <td>20808</td>\n",
       "      <td>69640</td>\n",
       "      <td>3.0</td>\n",
       "      <td>1248641618</td>\n",
       "    </tr>\n",
       "    <tr>\n",
       "      <th>1999997</th>\n",
       "      <td>20808</td>\n",
       "      <td>69757</td>\n",
       "      <td>5.0</td>\n",
       "      <td>1258756389</td>\n",
       "    </tr>\n",
       "    <tr>\n",
       "      <th>1999998</th>\n",
       "      <td>20808</td>\n",
       "      <td>70286</td>\n",
       "      <td>4.5</td>\n",
       "      <td>1258756286</td>\n",
       "    </tr>\n",
       "    <tr>\n",
       "      <th>1999999</th>\n",
       "      <td>20808</td>\n",
       "      <td>71282</td>\n",
       "      <td>3.0</td>\n",
       "      <td>1258756325</td>\n",
       "    </tr>\n",
       "  </tbody>\n",
       "</table>\n",
       "<p>2000000 rows × 4 columns</p>\n",
       "</div>"
      ],
      "text/plain": [
       "         userId  movieId  rating   timestamp\n",
       "0             1      110     1.0  1425941529\n",
       "1             1      147     4.5  1425942435\n",
       "2             1      858     5.0  1425941523\n",
       "3             1     1221     5.0  1425941546\n",
       "4             1     1246     5.0  1425941556\n",
       "...         ...      ...     ...         ...\n",
       "1999995   20808    69122     4.0  1258758055\n",
       "1999996   20808    69640     3.0  1248641618\n",
       "1999997   20808    69757     5.0  1258756389\n",
       "1999998   20808    70286     4.5  1258756286\n",
       "1999999   20808    71282     3.0  1258756325\n",
       "\n",
       "[2000000 rows x 4 columns]"
      ]
     },
     "execution_count": 98,
     "metadata": {},
     "output_type": "execute_result"
    }
   ],
   "source": [
    "metadata.head()\n",
    "metadata['id'] = pd.to_numeric(metadata['id'], errors='coerce', downcast='integer')\n",
    "\n",
    "# Drop rows with NaN (invalid entries)\n",
    "metadata = metadata.dropna(subset=['id'])\n",
    "\n",
    "ratings= ratings.iloc[:2000000,:]\n",
    "\n",
    "ratings.head(len(ratings))\n"
   ]
  },
  {
   "cell_type": "code",
   "execution_count": 4,
   "metadata": {},
   "outputs": [
    {
     "name": "stdout",
     "output_type": "stream",
     "text": [
      "nb of users :  20808\n",
      "nb of movies :  23281\n"
     ]
    }
   ],
   "source": [
    "print('nb of users : ', len(ratings['userId'].unique()))\n",
    "print('nb of movies : ', len(ratings['movieId'].unique()))"
   ]
  },
  {
   "cell_type": "code",
   "execution_count": 92,
   "metadata": {},
   "outputs": [
    {
     "data": {
      "text/plain": [
       "(2000000, 6)"
      ]
     },
     "execution_count": 92,
     "metadata": {},
     "output_type": "execute_result"
    }
   ],
   "source": [
    "ratings_array= np.array(ratings)\n",
    "ratings_array.shape"
   ]
  },
  {
   "cell_type": "markdown",
   "metadata": {},
   "source": [
    "# Center ratings \n",
    "### Because some users are more clement in their ratings and other not "
   ]
  },
  {
   "cell_type": "code",
   "execution_count": 93,
   "metadata": {},
   "outputs": [],
   "source": [
    "# Assuming 'ratings' is your DataFrame with columns: 'user_id', 'movieId', 'rating'\n",
    "# Extracting unique user and movie IDs\n",
    "unique_user_ids = ratings['userId'].unique()\n",
    "unique_movie_ids = ratings['movieId'].unique()\n",
    "for idx, value in enumerate(unique_user_ids):\n",
    "    user_indices = np.where(ratings['userId'] == value)\n",
    "      \n",
    "    user_mean_rating= np.mean(ratings_array[user_indices][:,2])\n",
    "    ratings_array[user_indices, 2] = ratings_array[user_indices, 2] - user_mean_rating\n"
   ]
  },
  {
   "cell_type": "code",
   "execution_count": 99,
   "metadata": {},
   "outputs": [
    {
     "data": {
      "text/html": [
       "<div>\n",
       "<style scoped>\n",
       "    .dataframe tbody tr th:only-of-type {\n",
       "        vertical-align: middle;\n",
       "    }\n",
       "\n",
       "    .dataframe tbody tr th {\n",
       "        vertical-align: top;\n",
       "    }\n",
       "\n",
       "    .dataframe thead th {\n",
       "        text-align: right;\n",
       "    }\n",
       "</style>\n",
       "<table border=\"1\" class=\"dataframe\">\n",
       "  <thead>\n",
       "    <tr style=\"text-align: right;\">\n",
       "      <th></th>\n",
       "      <th>userId</th>\n",
       "      <th>movieId</th>\n",
       "      <th>rating</th>\n",
       "      <th>timestamp</th>\n",
       "      <th>centered_rating</th>\n",
       "    </tr>\n",
       "  </thead>\n",
       "  <tbody>\n",
       "    <tr>\n",
       "      <th>0</th>\n",
       "      <td>1</td>\n",
       "      <td>110</td>\n",
       "      <td>1.0</td>\n",
       "      <td>1425941529</td>\n",
       "      <td>-3.277778</td>\n",
       "    </tr>\n",
       "    <tr>\n",
       "      <th>1</th>\n",
       "      <td>1</td>\n",
       "      <td>147</td>\n",
       "      <td>4.5</td>\n",
       "      <td>1425942435</td>\n",
       "      <td>0.222222</td>\n",
       "    </tr>\n",
       "    <tr>\n",
       "      <th>2</th>\n",
       "      <td>1</td>\n",
       "      <td>858</td>\n",
       "      <td>5.0</td>\n",
       "      <td>1425941523</td>\n",
       "      <td>0.722222</td>\n",
       "    </tr>\n",
       "    <tr>\n",
       "      <th>3</th>\n",
       "      <td>1</td>\n",
       "      <td>1221</td>\n",
       "      <td>5.0</td>\n",
       "      <td>1425941546</td>\n",
       "      <td>0.722222</td>\n",
       "    </tr>\n",
       "    <tr>\n",
       "      <th>4</th>\n",
       "      <td>1</td>\n",
       "      <td>1246</td>\n",
       "      <td>5.0</td>\n",
       "      <td>1425941556</td>\n",
       "      <td>0.722222</td>\n",
       "    </tr>\n",
       "    <tr>\n",
       "      <th>...</th>\n",
       "      <td>...</td>\n",
       "      <td>...</td>\n",
       "      <td>...</td>\n",
       "      <td>...</td>\n",
       "      <td>...</td>\n",
       "    </tr>\n",
       "    <tr>\n",
       "      <th>1999995</th>\n",
       "      <td>20808</td>\n",
       "      <td>69122</td>\n",
       "      <td>4.0</td>\n",
       "      <td>1258758055</td>\n",
       "      <td>0.821995</td>\n",
       "    </tr>\n",
       "    <tr>\n",
       "      <th>1999996</th>\n",
       "      <td>20808</td>\n",
       "      <td>69640</td>\n",
       "      <td>3.0</td>\n",
       "      <td>1248641618</td>\n",
       "      <td>-0.178005</td>\n",
       "    </tr>\n",
       "    <tr>\n",
       "      <th>1999997</th>\n",
       "      <td>20808</td>\n",
       "      <td>69757</td>\n",
       "      <td>5.0</td>\n",
       "      <td>1258756389</td>\n",
       "      <td>1.821995</td>\n",
       "    </tr>\n",
       "    <tr>\n",
       "      <th>1999998</th>\n",
       "      <td>20808</td>\n",
       "      <td>70286</td>\n",
       "      <td>4.5</td>\n",
       "      <td>1258756286</td>\n",
       "      <td>1.321995</td>\n",
       "    </tr>\n",
       "    <tr>\n",
       "      <th>1999999</th>\n",
       "      <td>20808</td>\n",
       "      <td>71282</td>\n",
       "      <td>3.0</td>\n",
       "      <td>1258756325</td>\n",
       "      <td>-0.178005</td>\n",
       "    </tr>\n",
       "  </tbody>\n",
       "</table>\n",
       "<p>2000000 rows × 5 columns</p>\n",
       "</div>"
      ],
      "text/plain": [
       "         userId  movieId  rating   timestamp  centered_rating\n",
       "0             1      110     1.0  1425941529        -3.277778\n",
       "1             1      147     4.5  1425942435         0.222222\n",
       "2             1      858     5.0  1425941523         0.722222\n",
       "3             1     1221     5.0  1425941546         0.722222\n",
       "4             1     1246     5.0  1425941556         0.722222\n",
       "...         ...      ...     ...         ...              ...\n",
       "1999995   20808    69122     4.0  1258758055         0.821995\n",
       "1999996   20808    69640     3.0  1248641618        -0.178005\n",
       "1999997   20808    69757     5.0  1258756389         1.821995\n",
       "1999998   20808    70286     4.5  1258756286         1.321995\n",
       "1999999   20808    71282     3.0  1258756325        -0.178005\n",
       "\n",
       "[2000000 rows x 5 columns]"
      ]
     },
     "execution_count": 99,
     "metadata": {},
     "output_type": "execute_result"
    }
   ],
   "source": [
    "ratings['centered_rating']= ratings_array[:,2]\n",
    "ratings"
   ]
  },
  {
   "cell_type": "markdown",
   "metadata": {},
   "source": [
    "# Create the sparse matrix "
   ]
  },
  {
   "cell_type": "code",
   "execution_count": 100,
   "metadata": {},
   "outputs": [],
   "source": [
    "\n",
    "# Creating a mapping of user and movie IDs to integer indices\n",
    "user_id_to_index = {user_id: index for index, user_id in enumerate(unique_user_ids)}\n",
    "movie_id_to_index = {movie_id: index for index, movie_id in enumerate(unique_movie_ids)}\n",
    "\n",
    "# Mapping user and movie IDs to integer indices in the DataFrame\n",
    "ratings['user_index'] = ratings['userId'].map(user_id_to_index)\n",
    "ratings['movie_index'] = ratings['movieId'].map(movie_id_to_index)\n",
    "\n",
    "# Creating a sparse matrix using CSR format\n",
    "sparse_matrix = csr_matrix((ratings['centered_rating'], (ratings['user_index'], ratings['movie_index'])))"
   ]
  },
  {
   "cell_type": "code",
   "execution_count": 101,
   "metadata": {},
   "outputs": [
    {
     "data": {
      "text/plain": [
       "(20808, 23281)"
      ]
     },
     "execution_count": 101,
     "metadata": {},
     "output_type": "execute_result"
    }
   ],
   "source": [
    "sparse_matrix.shape\n"
   ]
  },
  {
   "cell_type": "markdown",
   "metadata": {},
   "source": [
    "# Cosine similarity"
   ]
  },
  {
   "cell_type": "code",
   "execution_count": 102,
   "metadata": {},
   "outputs": [],
   "source": [
    "similarity=cosine_similarity(sparse_matrix,sparse_matrix)"
   ]
  },
  {
   "cell_type": "code",
   "execution_count": 128,
   "metadata": {},
   "outputs": [
    {
     "data": {
      "text/plain": [
       "(20808, 20808)"
      ]
     },
     "execution_count": 128,
     "metadata": {},
     "output_type": "execute_result"
    }
   ],
   "source": [
    "similarity.shape"
   ]
  },
  {
   "cell_type": "markdown",
   "metadata": {},
   "source": [
    "# Main "
   ]
  },
  {
   "cell_type": "code",
   "execution_count": 104,
   "metadata": {},
   "outputs": [],
   "source": [
    "def get_user_bestMovies(user_id):\n",
    "   \n",
    "    user_indices = np.array(np.where(ratings['userId'] == user_id)).ravel()\n",
    "    best_movies_ = np.where(ratings.iloc[user_indices]['rating']>3)+user_indices[0]\n",
    "    best_movies_ids=(ratings.iloc[best_movies_.ravel()]['movieId'])\n",
    "\n",
    "    best_movies = []\n",
    "    for value in best_movies_ids:\n",
    "        best_movies_indices = np.where(metadata['id'] == value)\n",
    "        titles = metadata.iloc[best_movies_indices]['title'].values\n",
    "        if len(titles) > 0:\n",
    "            best_movies.append(titles[0])\n",
    "\n",
    "    return best_movies\n"
   ]
  },
  {
   "cell_type": "code",
   "execution_count": 12,
   "metadata": {},
   "outputs": [],
   "source": [
    "def get_simillar_user(user_id):\n",
    "    indices_descending = np.argsort(similarity[user_id])[::-1]\n",
    "    return indices_descending"
   ]
  },
  {
   "cell_type": "markdown",
   "metadata": {},
   "source": [
    "# Get similar users"
   ]
  },
  {
   "cell_type": "code",
   "execution_count": 114,
   "metadata": {},
   "outputs": [
    {
     "name": "stdout",
     "output_type": "stream",
     "text": [
      "[    0  7932 10407 ...   466 10473 19205]\n"
     ]
    }
   ],
   "source": [
    "simillar_users=get_simillar_user(0)\n",
    "print(simillar_users)"
   ]
  },
  {
   "cell_type": "markdown",
   "metadata": {},
   "source": [
    "# Get most similar user best movies"
   ]
  },
  {
   "cell_type": "code",
   "execution_count": 123,
   "metadata": {},
   "outputs": [
    {
     "data": {
      "text/plain": [
       "['Twelve Monkeys',\n",
       " 'Duel',\n",
       " 'Backdraft',\n",
       " 'Shriek If You Know What I Did Last Friday the Thirteenth']"
      ]
     },
     "execution_count": 123,
     "metadata": {},
     "output_type": "execute_result"
    }
   ],
   "source": [
    "get_user_bestMovies(simillar_users[1])"
   ]
  }
 ],
 "metadata": {
  "kernelspec": {
   "display_name": "Python 3",
   "language": "python",
   "name": "python3"
  },
  "language_info": {
   "codemirror_mode": {
    "name": "ipython",
    "version": 3
   },
   "file_extension": ".py",
   "mimetype": "text/x-python",
   "name": "python",
   "nbconvert_exporter": "python",
   "pygments_lexer": "ipython3",
   "version": "3.9.7"
  }
 },
 "nbformat": 4,
 "nbformat_minor": 2
}
